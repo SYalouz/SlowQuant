{
 "cells": [
  {
   "cell_type": "code",
   "execution_count": 1,
   "metadata": {},
   "outputs": [],
   "source": [
    "import sys\n",
    "sys.path.insert(0,\"/mnt/c/gitreps/SlowQuant/\")\n",
    "import numpy as np\n",
    "import time\n",
    "import matplotlib.pyplot as plt\n",
    "from slowquant import shortcuts as SQ"
   ]
  },
  {
   "cell_type": "code",
   "execution_count": 2,
   "metadata": {},
   "outputs": [],
   "source": [
    "settings = {'basisset':'3-21G'}\n",
    "molecule = np.array([[4,0,0,0],\n",
    "                [4,0.0,0.0,0.0]])\n",
    "pathtobasis = '/mnt/c/gitreps/SlowQuant/slowquant/basissets/'"
   ]
  },
  {
   "cell_type": "code",
   "execution_count": 3,
   "metadata": {},
   "outputs": [],
   "source": [
    "def doublebar(i,j,k,l, Vee):\n",
    "    return Vee[i,j,k,l] - Vee[i,j,l,k]\n",
    "\n",
    "# Dynamics polarizability:\n",
    "# Introduction to the calculation of molecular properties by response theory\n",
    "# by Julien Toulouse\n",
    "\n",
    "# Dosen't seem to have the right behavior, find the bug!\n",
    "# Transform of 1 electron integrals is not tested properly!\n",
    "def polarizability(F, C, VeeMO, occ, omega, mux, muy, muz):\n",
    "    # midx used to slice arrays and for ar,bs combined\n",
    "    # arrayed indecies\n",
    "    midx = occ*(len(F)-occ)\n",
    "    \n",
    "    CT = np.transpose(C)\n",
    "    eps = np.dot(np.dot(CT, F),C)\n",
    "    \n",
    "    # Construct mu's\n",
    "    mutot = np.zeros((3,midx)) \n",
    "    aridx = -1\n",
    "    for a in range(0, occ):\n",
    "        for r in range(occ, len(F)):\n",
    "            aridx += 1\n",
    "            # Seem like there is no difference in switching r and a\n",
    "            # this seem unexpected?\n",
    "            mutot[0,aridx] = mux[r,a]\n",
    "            mutot[1,aridx] = muy[r,a]\n",
    "            mutot[2,aridx] = muz[r,a]\n",
    "            \n",
    "    # Construct A and B\n",
    "    A = np.zeros((midx, midx))\n",
    "    B = np.zeros((midx, midx))\n",
    "    aridx = -1\n",
    "    for a in range(0, occ):\n",
    "        for r in range(occ, len(F)):\n",
    "            aridx += 1\n",
    "            bsidx = -1\n",
    "            for b in range(0, occ):\n",
    "                for s in range(occ, len(F)):\n",
    "                    bsidx += 1\n",
    "                    #A[aridx,bsidx] = VeeMO[r,b,a,s] - VeeMO[r,b,s,a]\n",
    "                    #B[aridx,bsidx] = VeeMO[r,s,a,b] - VeeMO[r,s,b,a]\n",
    "                    A[aridx,bsidx] = doublebar(r,b,a,s, VeeMO)\n",
    "                    B[aridx,bsidx] = doublebar(r,s,a,b, VeeMO)\n",
    "                    if a == b and r == s:\n",
    "                        A[aridx,bsidx] += eps[r,r] - eps[a,a]\n",
    "    \n",
    "    # Construct AB matrix and ONE matrix\n",
    "    ABmat = np.zeros((2*midx,2*midx))\n",
    "    ONEmat = np.zeros((2*midx,2*midx)) \n",
    "    ABmat[0:midx, 0:midx] = A\n",
    "    ABmat[0:midx, midx:2*midx] = B\n",
    "    # A^T and A^T == A and B ?? \n",
    "    ABmat[midx:2*midx, 0:midx] = np.transpose(B)\n",
    "    ABmat[midx:2*midx, midx:2*midx] = np.transpose(A)\n",
    "    \n",
    "    #ONEmat[0:midx, 0:midx] = 1\n",
    "    #ONEmat[0:midx, midx:2*midx] = 0\n",
    "    #ONEmat[midx:2*midx, 0:midx] = 0\n",
    "    #ONEmat[midx:2*midx, midx:2*midx] = -1\n",
    "    for i in range(0, len(ONEmat)):\n",
    "        if i<midx:\n",
    "            ONEmat[i,i] = 1\n",
    "        else:\n",
    "            ONEmat[i,i] = -1\n",
    "\n",
    "    # Calc polarizability\n",
    "    alphaij = np.zeros((3,3))\n",
    "    ABONEinv = np.linalg.inv(ABmat-omega*ONEmat)\n",
    "    for i in range(0, 3):\n",
    "        mu_i = np.zeros(2*midx)\n",
    "        mu_i[0:midx] = mutot[i,:]\n",
    "        # mu_i* == mu_i ?? No difference, when only real numbers?\n",
    "        mu_i[midx:] = mutot[i,:]\n",
    "        for j in range(0, 3):\n",
    "            mu_j = np.zeros(2*midx)\n",
    "            mu_j[0:midx] = mutot[j,:]\n",
    "            mu_j[midx:] = mutot[j,:]\n",
    "            \n",
    "            # For real numbers mu_i^dagger = mu_i^T ??\n",
    "            alphaij[i,j] = np.dot(np.transpose(mu_i), np.dot(ABONEinv, mu_j))\n",
    "\n",
    "    return alphaij"
   ]
  },
  {
   "cell_type": "code",
   "execution_count": 4,
   "metadata": {},
   "outputs": [],
   "source": [
    "VNN, VNe, S, Te, Vee = SQ.Integrals(molecule, settings, pathtobasis)\n",
    "EHF, C, F, D, iterations = SQ.HartreeFock(molecule, VNN, Te, S, VNe, Vee)\n",
    "mu_x, mu_y, mu_z = SQ.dipoleintegral(molecule, settings, pathtobasis)\n",
    "VeeMO = SQ.Transform2eMO(Vee, C)\n",
    "mu_xMO = SQ.Transform1eMO(mu_x, C)\n",
    "mu_yMO = SQ.Transform1eMO(mu_y, C)\n",
    "mu_zMO = SQ.Transform1eMO(mu_z, C)\n",
    "occ = int(molecule[0,0])\n",
    "\n",
    "VeeMOspin = SQ.Transform2eSPIN(VeeMO)\n",
    "mu_xMOspin = SQ.Transform1eSPIN(mu_xMO)\n",
    "mu_yMOspin = SQ.Transform1eSPIN(mu_yMO)\n",
    "mu_zMOspin = SQ.Transform1eSPIN(mu_zMO)\n",
    "Fspin = SQ.Transform1eSPIN(F)\n",
    "Cspin = SQ.Transform1eSPIN(C)"
   ]
  },
  {
   "cell_type": "code",
   "execution_count": 5,
   "metadata": {},
   "outputs": [],
   "source": [
    "calc = np.zeros((2,100))\n",
    "for i in range(0, 100):\n",
    "    omega = i*0.3/100\n",
    "    alphaij = polarizability(Fspin, Cspin, VeeMOspin, occ, omega, mu_xMOspin, mu_yMOspin, mu_zMOspin)\n",
    "    calc[0,i] = omega\n",
    "    calc[1,i] = alphaij[0,0]"
   ]
  },
  {
   "cell_type": "code",
   "execution_count": 6,
   "metadata": {},
   "outputs": [
    {
     "data": {
      "image/png": "[encoded data removed]",
      "text/plain": [
       "<matplotlib.figure.Figure at 0x7fa594bec1d0>"
      ]
     },
     "metadata": {},
     "output_type": "display_data"
    }
   ],
   "source": [
    "import matplotlib.pyplot as plt\n",
    "plt.plot(calc[0,:],calc[1,:],'.')\n",
    "plt.show()"
   ]
  },
  {
   "cell_type": "code",
   "execution_count": 13,
   "metadata": {},
   "outputs": [],
   "source": [
    "F=Fspin\n",
    "C=Cspin\n",
    "VeeMO=VeeMOspin\n",
    "omega=0.0\n",
    "mux=mu_xMOspin\n",
    "muy=mu_yMOspin\n",
    "muz=mu_zMOspin\n",
    "\n",
    "# midx used to slice arrays and for ar,bs combined\n",
    "# arrayed indecies\n",
    "midx = occ*(len(F)-occ)\n",
    "\n",
    "CT = np.transpose(C)\n",
    "eps = np.dot(np.dot(CT, F),C)\n",
    "\n",
    "# Construct mu's\n",
    "mutot = np.zeros((3,midx)) \n",
    "aridx = -1\n",
    "for a in range(0, occ):\n",
    "    for r in range(occ, len(F)):\n",
    "        aridx += 1\n",
    "        mutot[0,aridx] = mux[r,a]\n",
    "        mutot[1,aridx] = muy[r,a]\n",
    "        mutot[2,aridx] = muz[r,a]\n",
    "\n",
    "# Construct A and B\n",
    "A = np.zeros((midx, midx))\n",
    "B = np.zeros((midx, midx))\n",
    "aridx = -1\n",
    "for a in range(0, occ):\n",
    "    for r in range(occ, len(F)):\n",
    "        aridx += 1\n",
    "        bsidx = -1\n",
    "        for b in range(0, occ):\n",
    "            for s in range(occ, len(F)):\n",
    "                bsidx += 1\n",
    "                #A[aridx,bsidx] = VeeMO[r,b,a,s] - VeeMO[r,b,s,a]\n",
    "                #B[aridx,bsidx] = VeeMO[r,s,a,b] - VeeMO[r,s,b,a]\n",
    "                A[aridx,bsidx] = doublebar(r,b,a,s, VeeMO)\n",
    "                B[aridx,bsidx] = doublebar(r,s,a,b, VeeMO)\n",
    "                if a == b and r == s:\n",
    "                    A[aridx,bsidx] += eps[r,r] - eps[a,a]\n",
    "\n",
    "# Construct AB matrix and ONE matrix\n",
    "ABmat = np.zeros((2*midx,2*midx))\n",
    "ONEmat = np.zeros((2*midx,2*midx)) \n",
    "ABmat[0:midx, 0:midx] = A\n",
    "ABmat[0:midx, midx:2*midx] = B\n",
    "ABmat[midx:2*midx, 0:midx] = B\n",
    "ABmat[midx:2*midx, midx:2*midx] = A\n",
    "\n",
    "#ONEmat[0:midx, 0:midx] = 1\n",
    "#ONEmat[0:midx, midx:2*midx] = 0\n",
    "#ONEmat[midx:2*midx, 0:midx] = 0\n",
    "#ONEmat[midx:2*midx, midx:2*midx] = -1\n",
    "for i in range(0, len(ONEmat)):\n",
    "    if i<midx:\n",
    "        ONEmat[i,i] = 1\n",
    "    else:\n",
    "        ONEmat[i,i] = -1\n",
    "            \n",
    "# Calc polarizability\n",
    "alphaij = np.zeros((3,3))\n",
    "ABONEinv = np.linalg.inv(ABmat-omega*ONEmat)\n",
    "for i in range(0, 3):\n",
    "    mu_i = np.zeros(2*midx)\n",
    "    mu_i[0:midx] = mutot[i,:]\n",
    "    mu_i[midx:] = mutot[i,:]\n",
    "    for j in range(0, 3):\n",
    "        mu_j = np.zeros(2*midx)\n",
    "        mu_j[0:midx] = mutot[j,:]\n",
    "        mu_j[midx:] = mutot[j,:]\n",
    "\n",
    "        alphaij[i,j] = np.dot(np.dot(np.transpose(mu_i), ABONEinv), mu_j)"
   ]
  },
  {
   "cell_type": "code",
   "execution_count": 14,
   "metadata": {},
   "outputs": [
    {
     "data": {
      "text/plain": [
       "array([[  4.10821305e+01,   5.32907052e-14,  -1.31561428e-14],\n",
       "       [  8.88178420e-15,   4.10821305e+01,  -1.16573418e-15],\n",
       "       [ -5.77315973e-15,  -2.72004641e-15,   4.10821305e+01]])"
      ]
     },
     "execution_count": 14,
     "metadata": {},
     "output_type": "execute_result"
    }
   ],
   "source": [
    "alphaij"
   ]
  },
  {
   "cell_type": "code",
   "execution_count": null,
   "metadata": {
    "collapsed": true
   },
   "outputs": [],
   "source": []
  }
 ],
 "metadata": {
  "kernelspec": {
   "display_name": "Python 3",
   "language": "python",
   "name": "python3"
  },
  "language_info": {
   "codemirror_mode": {
    "name": "ipython",
    "version": 3
   },
   "file_extension": ".py",
   "mimetype": "text/x-python",
   "name": "python",
   "nbconvert_exporter": "python",
   "pygments_lexer": "ipython3",
   "version": "3.6.4"
  }
 },
 "nbformat": 4,
 "nbformat_minor": 2
}
