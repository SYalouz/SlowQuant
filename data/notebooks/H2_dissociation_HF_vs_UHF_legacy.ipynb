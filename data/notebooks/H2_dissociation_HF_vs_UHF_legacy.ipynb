{
 "cells": [
  {
   "cell_type": "code",
   "execution_count": 1,
   "metadata": {},
   "outputs": [],
   "source": [
    "import sys\n",
    "sys.path.insert(0,\"/mnt/c/gitreps/SlowQuant/\")\n",
    "import numpy as np\n",
    "import time\n",
    "import matplotlib.pyplot as plt\n",
    "from slowquant.legacy import shortcuts as SQ"
   ]
  },
  {
   "cell_type": "code",
   "execution_count": 2,
   "metadata": {},
   "outputs": [],
   "source": [
    "settings    = {'basisset':'3-21G'}\n",
    "molecule    = np.array([[2,0,0,0],\n",
    "                        [1,0.0,0.0,0.0],\n",
    "                        [1,1.0,0.0,0.0]])"
   ]
  },
  {
   "cell_type": "code",
   "execution_count": 3,
   "metadata": {},
   "outputs": [],
   "source": [
    "# rHH, HFE, UHFE, spin-expectation\n",
    "data = np.zeros((3,100))"
   ]
  },
  {
   "cell_type": "code",
   "execution_count": 4,
   "metadata": {},
   "outputs": [],
   "source": [
    "# Calculate the dissociation curve\n",
    "for i in range(0,100):\n",
    "    molecule[2,1] = i*0.125 + 0.5\n",
    "    VNN, VNe, S, Te, Vee = SQ.Integrals(molecule, settings['basisset'])\n",
    "    EHF, C, F, D = SQ.HartreeFock(molecule, VNN, Te, S, VNe, Vee, print_scf='no')\n",
    "    EUHF, C_alpha, F_alpha, D_alpha, C_beta, F_beta, D_beta, iterations = SQ.UnrestrictedHartreeFock(molecule, VNN, Te, S, VNe, Vee)\n",
    "    data[0,i] = molecule[2,1]\n",
    "    data[1,i] = EHF\n",
    "    data[2,i] = EUHF"
   ]
  },
  {
   "cell_type": "code",
   "execution_count": 5,
   "metadata": {},
   "outputs": [],
   "source": [
    "# Calculate the energy for H-\n",
    "molecule = np.array([[2,0,0,0],\n",
    "                    [1,0.0,0.0,0.0]])\n",
    "Hpenergy, C, F, D = SQ.HartreeFock(molecule, VNN, Te, S, VNe, Vee, print_scf='no')\n",
    "\n",
    "# Calculate the energy for H\n",
    "molecule = np.array([[1,0,0,0],\n",
    "                    [1,0.0,0.0,0.0]])\n",
    "Henergy, C_alpha, F_alpha, D_alpha, C_beta, F_beta, D_beta, iterations = SQ.UnrestrictedHartreeFock(molecule, VNN, Te, S, VNe, Vee)"
   ]
  },
  {
   "cell_type": "code",
   "execution_count": 6,
   "metadata": {},
   "outputs": [
    {
     "data": {
      "image/png": "[encoded data removed]",
      "text/plain": [
       "<matplotlib.figure.Figure at 0x7fc3ead8ef60>"
      ]
     },
     "metadata": {},
     "output_type": "display_data"
    }
   ],
   "source": [
    "plt.plot(data[0,:], data[1,:], 'r.', label='Hartree-Fock')\n",
    "plt.plot(data[0,:], data[2,:], 'b.', label='Unrestricted Hartree-Fock')\n",
    "\n",
    "plt.plot([0.0,13.0], [Hpenergy,Hpenergy], 'g-.', label='H- (and H+) energy')\n",
    "plt.plot([0.0,13.0], [2*Henergy,2*Henergy], 'k-.', label='2 H radical energy')\n",
    "\n",
    "plt.legend(loc=1)\n",
    "plt.ylabel('Energy')\n",
    "plt.xlabel('r(H-H) [a.u.]')\n",
    "plt.savefig('H2dissociation.png')\n",
    "plt.show()"
   ]
  },
  {
   "cell_type": "code",
   "execution_count": null,
   "metadata": {
    "collapsed": true
   },
   "outputs": [],
   "source": []
  }
 ],
 "metadata": {
  "kernelspec": {
   "display_name": "Python 3",
   "language": "python",
   "name": "python3"
  },
  "language_info": {
   "codemirror_mode": {
    "name": "ipython",
    "version": 3
   },
   "file_extension": ".py",
   "mimetype": "text/x-python",
   "name": "python",
   "nbconvert_exporter": "python",
   "pygments_lexer": "ipython3",
   "version": "3.6.4"
  }
 },
 "nbformat": 4,
 "nbformat_minor": 2
}
