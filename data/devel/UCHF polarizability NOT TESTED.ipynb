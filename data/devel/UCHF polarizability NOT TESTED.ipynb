{
 "cells": [
  {
   "cell_type": "code",
   "execution_count": 1,
   "metadata": {},
   "outputs": [],
   "source": [
    "import sys\n",
    "sys.path.insert(0,\"/mnt/c/gitreps/SlowQuant/\")\n",
    "import numpy as np\n",
    "import time\n",
    "import matplotlib.pyplot as plt\n",
    "from slowquant import shortcuts as SQ"
   ]
  },
  {
   "cell_type": "code",
   "execution_count": 2,
   "metadata": {},
   "outputs": [],
   "source": [
    "molecule = np.array([[4,0,0,0],\n",
    "                [4,0.0,0.0,0.0]])"
   ]
  },
  {
   "cell_type": "code",
   "execution_count": 3,
   "metadata": {},
   "outputs": [],
   "source": [
    "# Uncopuled perturbed Hartree-Fock from:\n",
    "# Introduction to the calculation of molecular properties by response theory\n",
    "# by Julien Toulouse\n",
    "\n",
    "# Implemented in MO spin orbital basis, might not need spin orbital basis?\n",
    "# Not tested, so not sure if working\n",
    "def UCHF_polarizability(occ, F, C, mu_x, mu_y, mu_z):\n",
    "    Fspin = np.zeros((len(F)*2,len(F)*2))\n",
    "    Cspin = np.zeros((len(F)*2,len(F)*2))\n",
    "    for p in range(1,len(F)*2+1):\n",
    "        for q in range(1,len(F)*2+1):\n",
    "            Fspin[p-1,q-1] = F[(p+1)//2-1,(q+1)//2-1] * (p%2 == q%2)\n",
    "            Cspin[p-1,q-1] = C[(p+1)//2-1,(q+1)//2-1] * (p%2 == q%2)\n",
    "    FMOspin = np.dot(np.transpose(Cspin),np.dot(Fspin,Cspin))\n",
    "    \n",
    "    alpha = np.zeros((3,3))\n",
    "    mu_tot = np.zeros((len(mu_x),len(mu_x),3))\n",
    "    mu_tot[:,:,0] = mu_x\n",
    "    mu_tot[:,:,1] = mu_y\n",
    "    mu_tot[:,:,2] = mu_z\n",
    "    # x = 0, y = 1, z = 2\n",
    "    for i in range(0, 3):\n",
    "        for j in range(0, 3):\n",
    "            for a in range(0, occ):\n",
    "                for r in range(occ, len(F)*2):\n",
    "                    alpha[i,j] += (mu_tot[r,a,i]*mu_tot[a,r,j])/(FMOspin[r,r]-FMOspin[a,a])\n",
    "    \n",
    "    alpha = 2.0*alpha\n",
    "    print(alpha)\n",
    "\n",
    "def Transform_dipole_MOspin(mu_x, mu_y, mu_z, C):\n",
    "    mu_xMO = np.zeros((len(mu_x),len(mu_x)))\n",
    "    mu_yMO = np.zeros((len(mu_x),len(mu_x)))\n",
    "    mu_zMO = np.zeros((len(mu_x),len(mu_x)))\n",
    "    for p in range(0, len(C)):\n",
    "        for q in range(0, len(C)):\n",
    "            for mu in range(0, len(C)):\n",
    "                for nu in range(0, len(C)):\n",
    "                    mu_xMO[p,q] += C[mu,p]*C[nu,q]*mu_x[mu,nu]\n",
    "                    mu_yMO[p,q] += C[mu,p]*C[nu,q]*mu_y[mu,nu]\n",
    "                    mu_zMO[p,q] += C[mu,p]*C[nu,q]*mu_z[mu,nu]\n",
    "            \n",
    "    mu_xspin = np.zeros((len(mu_x)*2,len(mu_x)*2))\n",
    "    mu_yspin = np.zeros((len(mu_x)*2,len(mu_x)*2))\n",
    "    mu_zspin = np.zeros((len(mu_x)*2,len(mu_x)*2))\n",
    "    for p in range(1,len(mu_x)*2+1):\n",
    "        for q in range(1,len(mu_x)*2+1):\n",
    "            mu_xspin[p-1,q-1] = mu_xMO[(p+1)//2-1,(q+1)//2-1] * (p%2 == q%2)\n",
    "            mu_yspin[p-1,q-1] = mu_yMO[(p+1)//2-1,(q+1)//2-1] * (p%2 == q%2)\n",
    "            mu_zspin[p-1,q-1] = mu_zMO[(p+1)//2-1,(q+1)//2-1] * (p%2 == q%2)\n",
    "    \n",
    "    return mu_xspin, mu_yspin, mu_zspin\n"
   ]
  },
  {
   "cell_type": "code",
   "execution_count": 4,
   "metadata": {},
   "outputs": [
    {
     "name": "stdout",
     "output_type": "stream",
     "text": [
      "Iter\t Eel\t\n",
      "1 \t -14.1747842353 \t -14.1747842353 \t  5.25012207e+00 \t  9.44202705e-01\n",
      "2 \t -14.5005469173 \t -14.5005469173 \t -3.25762682e-01 \t  2.45249616e-01 \t  1.45640345e-01\n",
      "3 \t -14.4866262751 \t -14.4866262751 \t  1.39206422e-02 \t  4.69794922e-03 \t  1.45640345e-01\n",
      "4 \t -14.4868217439 \t -14.4868217439 \t -1.95468797e-04 \t  4.12418596e-05 \t  1.45640345e-01\n",
      "5 \t -14.4868202417 \t -14.4868202417 \t  1.50218177e-06 \t  3.42360202e-07 \t  1.45640345e-01\n",
      "6 \t -14.4868202419 \t -14.4868202419 \t -1.82698301e-10 \t  7.15068061e-11 \t  1.45640345e-01\n"
     ]
    }
   ],
   "source": [
    "VNN, VNe, S, Te, Vee = SQ.Integrals(molecule, \"3-21G\")\n",
    "EHF, C, F, D = SQ.HartreeFock(molecule, VNN, Te, S, VNe, Vee)\n",
    "mu_x, mu_y, mu_z = SQ.dipoleintegral(molecule, \"3-21G\")\n",
    "mu_xspin, mu_yspin, mu_zspin = Transform_dipole_MOspin(mu_x, mu_y, mu_z, C)\n",
    "occ = int(molecule[0,0])"
   ]
  },
  {
   "cell_type": "code",
   "execution_count": 5,
   "metadata": {},
   "outputs": [
    {
     "name": "stdout",
     "output_type": "stream",
     "text": [
      "[[  2.85757090e+01   1.87350135e-16  -1.87948447e-15]\n",
      " [  2.84494650e-16   2.85757090e+01  -1.29015904e-15]\n",
      " [ -1.87948447e-15  -8.46069827e-16   2.85757090e+01]]\n"
     ]
    }
   ],
   "source": [
    "UCHF_polarizability(occ, F, C, mu_xspin, mu_yspin, mu_zspin)"
   ]
  },
  {
   "cell_type": "code",
   "execution_count": null,
   "metadata": {
    "collapsed": true
   },
   "outputs": [],
   "source": []
  }
 ],
 "metadata": {
  "kernelspec": {
   "display_name": "Python 3",
   "language": "python",
   "name": "python3"
  },
  "language_info": {
   "codemirror_mode": {
    "name": "ipython",
    "version": 3
   },
   "file_extension": ".py",
   "mimetype": "text/x-python",
   "name": "python",
   "nbconvert_exporter": "python",
   "pygments_lexer": "ipython3",
   "version": "3.6.4"
  }
 },
 "nbformat": 4,
 "nbformat_minor": 2
}
