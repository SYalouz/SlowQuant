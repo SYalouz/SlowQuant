{
 "cells": [
  {
   "cell_type": "code",
   "execution_count": 1,
   "metadata": {
    "collapsed": true
   },
   "outputs": [],
   "source": [
    "import sys\n",
    "sys.path.insert(0,\"/mnt/c/SlowQuant/\")\n",
    "import numpy as np\n",
    "import time\n",
    "import matplotlib.pyplot as plt\n",
    "from slowquant import shortcuts as SQ"
   ]
  },
  {
   "cell_type": "code",
   "execution_count": 2,
   "metadata": {},
   "outputs": [],
   "source": [
    "basis = ['cc-pVDZ', 'aug-cc-pVDZ', 'cc-pVTZ']\n",
    "molecules = [np.array([[10,0,0,0],\n",
    "                [1,1.63803684,1.136548823,0.0],\n",
    "                [8,0.0,-0.143225817,0.0],\n",
    "                [1,-1.63803684,1.136548823,0.0]]),\n",
    "             np.array([[10,0,0,0],\n",
    "                [6,0.0,0.0,0.0],\n",
    "                [1,1.183771682,-1.183771682,-1.183771682],\n",
    "                [1,1.183771682,1.183771682,1.183771682],\n",
    "                [1,-1.183771682,1.183771682,-1.183771682],\n",
    "                [1,-1.183771682,-1.183771682,1.183771682]]),\n",
    "             np.array([[4,0,0,0],\n",
    "                [3,0.0,0.0,0.0],\n",
    "                [1,1.4,0.0,0.0]]),\n",
    "            np.array([[14,0,0,0],\n",
    "                [6,0.0,0.0,0.0],\n",
    "                [8,1.12,0.0,0.0]])]\n",
    "pathtobasis = '/mnt/c/SlowQuant/slowquant/basissets/'"
   ]
  },
  {
   "cell_type": "code",
   "execution_count": 3,
   "metadata": {},
   "outputs": [],
   "source": [
    "# basisset size, integral-time, hartreefock-time, total-time\n",
    "timing = np.zeros((12,4))"
   ]
  },
  {
   "cell_type": "code",
   "execution_count": 4,
   "metadata": {},
   "outputs": [],
   "source": [
    "idx = 0\n",
    "for i in range(len(basis)):\n",
    "    settings = {'basisset':basis[i]}\n",
    "    for j in range(len(molecules)):\n",
    "        timetot = time.time()\n",
    "        # SQ.basisset is only used to get basisset size. Basisset is also constructed in SQ.Integrals\n",
    "        timing[idx,0] = len(SQ.basisset(molecules[j], settings, pathtobasis))\n",
    "        timeintegral = time.time()\n",
    "        VNN, VNe, S, Te, Vee = SQ.Integrals(molecules[j], settings, pathtobasis)\n",
    "        timeintegral = time.time() - timeintegral\n",
    "        timehartreefock = time.time()\n",
    "        EHF, C, F, D, iterations = SQ.HartreeFock(molecules[j], VNN, Te, S, VNe, Vee)\n",
    "        timehartreefock = time.time() - timehartreefock\n",
    "        timetot = time.time() - timetot\n",
    "        timing[idx,1] = timeintegral\n",
    "        timing[idx,2] = timehartreefock\n",
    "        timing[idx,3] = timetot\n",
    "        idx += 1"
   ]
  },
  {
   "cell_type": "code",
   "execution_count": 5,
   "metadata": {},
   "outputs": [],
   "source": [
    "timing = np.sort(timing, axis=0)"
   ]
  },
  {
   "cell_type": "code",
   "execution_count": 6,
   "metadata": {
    "scrolled": true
   },
   "outputs": [
    {
     "data": {
      "image/png": "[encoded data removed]",
      "text/plain": [
       "<matplotlib.figure.Figure at 0x7fd0c530d5f8>"
      ]
     },
     "metadata": {},
     "output_type": "display_data"
    }
   ],
   "source": [
    "plt.plot(timing[:,0], timing[:,1], 'bo', label='Integrals')\n",
    "plt.plot(timing[:,0], timing[:,2], 'go', label='HF SCF')\n",
    "plt.plot(timing[:,0], timing[:,3], 'ro', label='Execution time')\n",
    "plt.legend(loc=2)\n",
    "plt.ylabel('Time (sec)')\n",
    "plt.xlabel('Basisfunctions')\n",
    "plt.show()"
   ]
  },
  {
   "cell_type": "code",
   "execution_count": null,
   "metadata": {
    "collapsed": true
   },
   "outputs": [],
   "source": []
  }
 ],
 "metadata": {
  "kernelspec": {
   "display_name": "Python 3",
   "language": "python",
   "name": "python3"
  },
  "language_info": {
   "codemirror_mode": {
    "name": "ipython",
    "version": 3
   },
   "file_extension": ".py",
   "mimetype": "text/x-python",
   "name": "python",
   "nbconvert_exporter": "python",
   "pygments_lexer": "ipython3",
   "version": "3.6.2"
  }
 },
 "nbformat": 4,
 "nbformat_minor": 2
}
